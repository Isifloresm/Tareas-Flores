{
  "nbformat": 4,
  "nbformat_minor": 0,
  "metadata": {
    "colab": {
      "provenance": []
    },
    "kernelspec": {
      "name": "python3",
      "display_name": "Python 3"
    },
    "language_info": {
      "name": "python"
    }
  },
  "cells": [
    {
      "cell_type": "markdown",
      "source": [
        "**Problema 1** :\n",
        "Hacer un programa que imprima los números del 1 al 100."
      ],
      "metadata": {
        "id": "yBSg_vPsuKjm"
      }
    },
    {
      "cell_type": "code",
      "source": [
        "for i in range(1, 101):\n",
        "    print(i)"
      ],
      "metadata": {
        "colab": {
          "base_uri": "https://localhost:8080/"
        },
        "id": "ZLiPduxAuTS-",
        "outputId": "f5292a77-c985-4eea-9c06-7d5f1ca589e5"
      },
      "execution_count": 1,
      "outputs": [
        {
          "output_type": "stream",
          "name": "stdout",
          "text": [
            "1\n",
            "2\n",
            "3\n",
            "4\n",
            "5\n",
            "6\n",
            "7\n",
            "8\n",
            "9\n",
            "10\n",
            "11\n",
            "12\n",
            "13\n",
            "14\n",
            "15\n",
            "16\n",
            "17\n",
            "18\n",
            "19\n",
            "20\n",
            "21\n",
            "22\n",
            "23\n",
            "24\n",
            "25\n",
            "26\n",
            "27\n",
            "28\n",
            "29\n",
            "30\n",
            "31\n",
            "32\n",
            "33\n",
            "34\n",
            "35\n",
            "36\n",
            "37\n",
            "38\n",
            "39\n",
            "40\n",
            "41\n",
            "42\n",
            "43\n",
            "44\n",
            "45\n",
            "46\n",
            "47\n",
            "48\n",
            "49\n",
            "50\n",
            "51\n",
            "52\n",
            "53\n",
            "54\n",
            "55\n",
            "56\n",
            "57\n",
            "58\n",
            "59\n",
            "60\n",
            "61\n",
            "62\n",
            "63\n",
            "64\n",
            "65\n",
            "66\n",
            "67\n",
            "68\n",
            "69\n",
            "70\n",
            "71\n",
            "72\n",
            "73\n",
            "74\n",
            "75\n",
            "76\n",
            "77\n",
            "78\n",
            "79\n",
            "80\n",
            "81\n",
            "82\n",
            "83\n",
            "84\n",
            "85\n",
            "86\n",
            "87\n",
            "88\n",
            "89\n",
            "90\n",
            "91\n",
            "92\n",
            "93\n",
            "94\n",
            "95\n",
            "96\n",
            "97\n",
            "98\n",
            "99\n",
            "100\n"
          ]
        }
      ]
    },
    {
      "cell_type": "markdown",
      "source": [
        "**Problema 2:**\n",
        "Hacer un programa que imprima los números del 1 al 100 que sean divisibles entre 3 (con resto 0)"
      ],
      "metadata": {
        "id": "G98QJe2Fu2Xi"
      }
    },
    {
      "cell_type": "code",
      "source": [
        "# Recorremos los números del 1 al 100\n",
        "for i in range(1, 101):\n",
        "    # Usamos el operador % para verificar si el número es divisible entre 3\n",
        "    if i % 3 == 0:\n",
        "        print(i)  # Imprimimos el número si es divisible entre 3\n"
      ],
      "metadata": {
        "colab": {
          "base_uri": "https://localhost:8080/"
        },
        "id": "odWKKZHevByh",
        "outputId": "cb925c19-ca1a-42ad-e181-1bdfb0b013f8"
      },
      "execution_count": 2,
      "outputs": [
        {
          "output_type": "stream",
          "name": "stdout",
          "text": [
            "3\n",
            "6\n",
            "9\n",
            "12\n",
            "15\n",
            "18\n",
            "21\n",
            "24\n",
            "27\n",
            "30\n",
            "33\n",
            "36\n",
            "39\n",
            "42\n",
            "45\n",
            "48\n",
            "51\n",
            "54\n",
            "57\n",
            "60\n",
            "63\n",
            "66\n",
            "69\n",
            "72\n",
            "75\n",
            "78\n",
            "81\n",
            "84\n",
            "87\n",
            "90\n",
            "93\n",
            "96\n",
            "99\n"
          ]
        }
      ]
    },
    {
      "cell_type": "markdown",
      "source": [
        "**Problema 3.**\n",
        "Pseudocódigo, Sumador y comparador de dos números."
      ],
      "metadata": {
        "id": "2fTRgn53vPl6"
      }
    },
    {
      "cell_type": "code",
      "source": [
        "class Sumador:\n",
        "    def __init__(self, numero1, numero2):\n",
        "        # Inicializamos los números\n",
        "        self.numero1 = numero1\n",
        "        self.numero2 = numero2\n",
        "        self.suma = 0\n",
        "        self.resultado = \"\"\n",
        "\n",
        "    def sumar(self):\n",
        "        # Realizamos la suma de los dos números\n",
        "        self.suma = self.numero1 + self.numero2\n",
        "\n",
        "        # Evaluamos el valor de la suma y asignamos el mensaje correspondiente\n",
        "        if self.suma < 100:\n",
        "            self.resultado = \"es menor a 100\"\n",
        "        elif 100 < self.suma < 150:\n",
        "            self.resultado = \"es mayor a 100 y menor a 150\"\n",
        "        else:\n",
        "            self.resultado = \"es mayor a 150\"\n",
        "\n",
        "    def imprimir_resultado(self):\n",
        "        # Imprimimos el resultado\n",
        "        print(self.resultado)\n",
        "\n",
        "# Función principal\n",
        "if __name__ == \"__main__\":\n",
        "    # Pedimos al usuario que ingrese dos números\n",
        "    numero1 = int(input(\"Ingresa el primer número: \"))\n",
        "    numero2 = int(input(\"Ingresa el segundo número: \"))\n",
        "\n",
        "    # Creamos un objeto de la clase Sumador\n",
        "    sumador = Sumador(numero1, numero2)\n",
        "\n",
        "    # Llamamos a los métodos para realizar la suma y mostrar el resultado\n",
        "    sumador.sumar()\n",
        "    sumador.imprimir_resultado()\n"
      ],
      "metadata": {
        "colab": {
          "base_uri": "https://localhost:8080/"
        },
        "id": "kI1blaT0vX9m",
        "outputId": "db21cf94-228b-43f8-b0d9-95ced831c186"
      },
      "execution_count": 5,
      "outputs": [
        {
          "output_type": "stream",
          "name": "stdout",
          "text": [
            "Ingresa el primer número: 50\n",
            "Ingresa el segundo número: 40\n",
            "es menor a 100\n"
          ]
        }
      ]
    },
    {
      "cell_type": "markdown",
      "source": [
        "**Problema 4:** Pseudocódigo\n",
        "Generar un programa que combine variables, tipos de datos y una condicional"
      ],
      "metadata": {
        "id": "m_GTbOB3wDTH"
      }
    },
    {
      "cell_type": "code",
      "source": [
        "def evaluar_usuario(edad, gusta_programar):\n",
        "    # Evaluamos si la persona es mayor de edad y si le gusta programar\n",
        "    if edad >= 18 and gusta_programar:\n",
        "        mensaje = \"Eres mayor de edad y te gusta programar\"\n",
        "    else:\n",
        "        mensaje = \"No eres mayor de edad o no te gusta programar\"\n",
        "\n",
        "    # Imprimimos el mensaje resultante\n",
        "    print(mensaje)\n",
        "\n",
        "# Función principal\n",
        "if __name__ == \"__main__\":\n",
        "    # Pedimos al usuario que ingrese su edad\n",
        "    edad = int(input(\"¿Cuál es tu edad? \"))\n",
        "\n",
        "    # Preguntamos si le gusta programar (True o False)\n",
        "    gusta_programar = input(\"¿Te gusta programar? (sí/no): \").strip().lower() == 'sí'\n",
        "\n",
        "    # Llamamos a la función para evaluar al usuario\n",
        "    evaluar_usuario(edad, gusta_programar)\n"
      ],
      "metadata": {
        "colab": {
          "base_uri": "https://localhost:8080/"
        },
        "id": "U666hzgMw1Od",
        "outputId": "7ba92064-92a0-4e09-fdf4-62910df422ff"
      },
      "execution_count": 7,
      "outputs": [
        {
          "output_type": "stream",
          "name": "stdout",
          "text": [
            "¿Cuál es tu edad? 18\n",
            "¿Te gusta programar? (sí/no): no\n",
            "No eres mayor de edad o no te gusta programar\n"
          ]
        }
      ]
    }
  ]
}